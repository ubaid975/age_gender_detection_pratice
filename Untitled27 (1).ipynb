{
  "cells": [
    {
      "cell_type": "code",
      "execution_count": 1,
      "metadata": {
        "colab": {
          "base_uri": "https://localhost:8080/"
        },
        "id": "BWcv_g6OV_-c",
        "outputId": "e405f5ef-2ee6-4a70-efff-60db430489e3"
      },
      "outputs": [
        {
          "output_type": "stream",
          "name": "stdout",
          "text": [
            "Dataset URL: https://www.kaggle.com/datasets/jangedoo/utkface-new\n",
            "License(s): copyright-authors\n",
            "utkface-new.zip: Skipping, found more recently modified local copy (use --force to force download)\n"
          ]
        }
      ],
      "source": [
        "! kaggle datasets download jangedoo/utkface-new"
      ]
    },
    {
      "cell_type": "code",
      "execution_count": 39,
      "metadata": {
        "id": "w_kJieeGWNgR"
      },
      "outputs": [],
      "source": [
        "import zipfile\n",
        "import pandas as pd\n",
        "import seaborn as sns\n",
        "import matplotlib.pyplot as plt\n",
        "import numpy as np\n",
        "import cv2\n",
        "import tensorflow\n",
        "from tensorflow import keras\n",
        "from tensorflow.keras import layers\n",
        "from tensorflow.keras import activations\n",
        "from tensorflow.keras import optimizers\n",
        "from tensorflow.keras import losses\n",
        "from tensorflow.keras import metrics\n",
        "import os\n",
        "from tensorflow.keras.callbacks import EarlyStopping\n",
        "from sklearn.model_selection import train_test_split"
      ]
    },
    {
      "cell_type": "code",
      "execution_count": 3,
      "metadata": {
        "id": "XJK7AeYyW3rl"
      },
      "outputs": [],
      "source": [
        "zip=zipfile.ZipFile('utkface-new.zip')\n",
        "zip.extractall()\n",
        "zip.close()"
      ]
    },
    {
      "cell_type": "code",
      "execution_count": 4,
      "metadata": {
        "id": "r9rfF97zXI8q"
      },
      "outputs": [],
      "source": [
        "utk_face=r'/content/UTKFace'\n",
        "crop_part1=r\"/content/crop_part1\""
      ]
    },
    {
      "cell_type": "code",
      "execution_count": 5,
      "metadata": {
        "colab": {
          "base_uri": "https://localhost:8080/"
        },
        "id": "o0-W3w94Yjiv",
        "outputId": "b36a1997-af25-4475-93f0-bf83a0bb67bf"
      },
      "outputs": [
        {
          "output_type": "execute_result",
          "data": {
            "text/plain": [
              "9780"
            ]
          },
          "metadata": {},
          "execution_count": 5
        }
      ],
      "source": [
        "len(os.listdir(crop_part1))"
      ]
    },
    {
      "cell_type": "code",
      "execution_count": 6,
      "metadata": {
        "colab": {
          "base_uri": "https://localhost:8080/"
        },
        "id": "u86GHtD7YL0V",
        "outputId": "37b11b10-663c-41fa-e380-4c0afeb3d487"
      },
      "outputs": [
        {
          "output_type": "execute_result",
          "data": {
            "text/plain": [
              "23708"
            ]
          },
          "metadata": {},
          "execution_count": 6
        }
      ],
      "source": [
        "len(os.listdir(utk_face))"
      ]
    },
    {
      "cell_type": "code",
      "execution_count": 7,
      "metadata": {
        "id": "migcKCSUYOuh"
      },
      "outputs": [],
      "source": [
        "crop_images=[]\n",
        "crop_ages=[]\n",
        "crop_genders=[]"
      ]
    },
    {
      "cell_type": "code",
      "execution_count": 8,
      "metadata": {
        "id": "4puX65EYZFb-"
      },
      "outputs": [],
      "source": [
        "for i in os.listdir(crop_part1):\n",
        "  ages=i.split(\"_\")[0]\n",
        "\n",
        "  gender=i.split(\"_\")[1]\n",
        "  img=cv2.imread(os.path.join(crop_part1,i))\n",
        "  img=cv2.resize(img,(224,224))\n",
        "  crop_images.append(img)\n",
        "  crop_ages.append(ages)\n",
        "  crop_genders.append(gender)"
      ]
    },
    {
      "cell_type": "code",
      "execution_count": 9,
      "metadata": {
        "colab": {
          "base_uri": "https://localhost:8080/",
          "height": 264
        },
        "id": "o7BZorCcag3v",
        "outputId": "2be35b9c-f066-400c-d2a5-5747827a7b0e"
      },
      "outputs": [
        {
          "output_type": "execute_result",
          "data": {
            "text/plain": [
              "array([[[129, 128, 132],\n",
              "        [128, 127, 131],\n",
              "        [125, 125, 130],\n",
              "        ...,\n",
              "        [244, 243, 245],\n",
              "        [245, 244, 246],\n",
              "        [246, 245, 247]],\n",
              "\n",
              "       [[129, 128, 132],\n",
              "        [128, 127, 131],\n",
              "        [126, 125, 131],\n",
              "        ...,\n",
              "        [244, 243, 245],\n",
              "        [246, 245, 247],\n",
              "        [247, 246, 248]],\n",
              "\n",
              "       [[130, 129, 133],\n",
              "        [129, 128, 132],\n",
              "        [126, 126, 131],\n",
              "        ...,\n",
              "        [245, 244, 246],\n",
              "        [246, 245, 247],\n",
              "        [247, 246, 248]],\n",
              "\n",
              "       ...,\n",
              "\n",
              "       [[ 75,  47,  37],\n",
              "        [ 74,  48,  36],\n",
              "        [ 76,  48,  36],\n",
              "        ...,\n",
              "        [ 43,  39,  41],\n",
              "        [ 46,  41,  43],\n",
              "        [ 47,  42,  44]],\n",
              "\n",
              "       [[ 77,  49,  38],\n",
              "        [ 76,  48,  37],\n",
              "        [ 76,  47,  36],\n",
              "        ...,\n",
              "        [ 43,  39,  41],\n",
              "        [ 46,  41,  43],\n",
              "        [ 47,  42,  44]],\n",
              "\n",
              "       [[ 78,  50,  39],\n",
              "        [ 76,  48,  37],\n",
              "        [ 76,  47,  34],\n",
              "        ...,\n",
              "        [ 43,  39,  41],\n",
              "        [ 46,  41,  43],\n",
              "        [ 47,  42,  44]]], dtype=uint8)"
            ],
            "text/html": [
              "<style>\n",
              "      .ndarray_repr .ndarray_raw_data {\n",
              "        display: none;\n",
              "      }\n",
              "      .ndarray_repr.show_array .ndarray_raw_data {\n",
              "        display: block;\n",
              "      }\n",
              "      .ndarray_repr.show_array .ndarray_image_preview {\n",
              "        display: none;\n",
              "      }\n",
              "      </style>\n",
              "      <div id=\"id-07c64004-d46e-4d19-add5-58db5c38ddc6\" class=\"ndarray_repr\"><pre>ndarray (224, 224, 3) <button style=\"padding: 0 2px;\">show data</button></pre><img src=\"data:image/png;base64,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\" class=\"ndarray_image_preview\" /><pre class=\"ndarray_raw_data\">array([[[129, 128, 132],\n",
              "        [128, 127, 131],\n",
              "        [125, 125, 130],\n",
              "        ...,\n",
              "        [244, 243, 245],\n",
              "        [245, 244, 246],\n",
              "        [246, 245, 247]],\n",
              "\n",
              "       [[129, 128, 132],\n",
              "        [128, 127, 131],\n",
              "        [126, 125, 131],\n",
              "        ...,\n",
              "        [244, 243, 245],\n",
              "        [246, 245, 247],\n",
              "        [247, 246, 248]],\n",
              "\n",
              "       [[130, 129, 133],\n",
              "        [129, 128, 132],\n",
              "        [126, 126, 131],\n",
              "        ...,\n",
              "        [245, 244, 246],\n",
              "        [246, 245, 247],\n",
              "        [247, 246, 248]],\n",
              "\n",
              "       ...,\n",
              "\n",
              "       [[ 75,  47,  37],\n",
              "        [ 74,  48,  36],\n",
              "        [ 76,  48,  36],\n",
              "        ...,\n",
              "        [ 43,  39,  41],\n",
              "        [ 46,  41,  43],\n",
              "        [ 47,  42,  44]],\n",
              "\n",
              "       [[ 77,  49,  38],\n",
              "        [ 76,  48,  37],\n",
              "        [ 76,  47,  36],\n",
              "        ...,\n",
              "        [ 43,  39,  41],\n",
              "        [ 46,  41,  43],\n",
              "        [ 47,  42,  44]],\n",
              "\n",
              "       [[ 78,  50,  39],\n",
              "        [ 76,  48,  37],\n",
              "        [ 76,  47,  34],\n",
              "        ...,\n",
              "        [ 43,  39,  41],\n",
              "        [ 46,  41,  43],\n",
              "        [ 47,  42,  44]]], dtype=uint8)</pre></div><script>\n",
              "      (() => {\n",
              "      const titles = ['show data', 'hide data'];\n",
              "      let index = 0\n",
              "      document.querySelector('#id-07c64004-d46e-4d19-add5-58db5c38ddc6 button').onclick = (e) => {\n",
              "        document.querySelector('#id-07c64004-d46e-4d19-add5-58db5c38ddc6').classList.toggle('show_array');\n",
              "        index = (++index) % 2;\n",
              "        document.querySelector('#id-07c64004-d46e-4d19-add5-58db5c38ddc6 button').textContent = titles[index];\n",
              "        e.preventDefault();\n",
              "        e.stopPropagation();\n",
              "      }\n",
              "      })();\n",
              "    </script>"
            ]
          },
          "metadata": {},
          "execution_count": 9
        }
      ],
      "source": [
        "crop_images[0]"
      ]
    },
    {
      "cell_type": "code",
      "execution_count": 10,
      "metadata": {
        "id": "hSgffrPeF64j"
      },
      "outputs": [],
      "source": [
        "crop_images=np.array(crop_images)\n",
        "crop_ages=np.array(crop_ages).astype('int').reshape(-1,1)\n",
        "crop_genders=np.array(crop_genders).astype('int').reshape(-1,1)"
      ]
    },
    {
      "cell_type": "code",
      "execution_count": 11,
      "metadata": {
        "colab": {
          "base_uri": "https://localhost:8080/"
        },
        "id": "Oyeq0NaTGQsa",
        "outputId": "1778838f-e971-4299-8e5d-74be2c8c30f8"
      },
      "outputs": [
        {
          "output_type": "execute_result",
          "data": {
            "text/plain": [
              "array([[86],\n",
              "       [ 1],\n",
              "       [41],\n",
              "       ...,\n",
              "       [37],\n",
              "       [29],\n",
              "       [81]])"
            ]
          },
          "metadata": {},
          "execution_count": 11
        }
      ],
      "source": [
        "crop_ages"
      ]
    },
    {
      "cell_type": "code",
      "execution_count": 12,
      "metadata": {
        "id": "NZasInLQGTuk"
      },
      "outputs": [],
      "source": [
        "input=keras.Input(shape=(224,224,3))\n",
        "x=layers.Conv2D(32,(3,3),activation='relu')(input)\n",
        "x=layers.Conv2D(64,(3,3),activation='relu')(x)\n",
        "x=layers.MaxPool2D()(x)\n",
        "x=layers.Conv2D(132,(3,3),activation='relu')(x)\n",
        "x=layers.Conv2D(264,(3,3),activation='relu')(x)\n",
        "x=layers.MaxPool2D()(x)\n",
        "x=layers.Flatten()(x)\n",
        "x=layers.Dense(64,activation='relu')(x)\n",
        "output_1=layers.Dense(1,activation='linear',name='age')(x)\n",
        "output_2=layers.Dense(1,activation='sigmoid',name='gender')(x)\n"
      ]
    },
    {
      "cell_type": "code",
      "execution_count": 13,
      "metadata": {
        "id": "4AGKKt1DG3qs"
      },
      "outputs": [],
      "source": [
        "model=keras.Model(inputs=input,outputs={'age':output_1,'gender':output_2})"
      ]
    },
    {
      "cell_type": "code",
      "execution_count": 14,
      "metadata": {
        "colab": {
          "base_uri": "https://localhost:8080/",
          "height": 1000
        },
        "id": "9Vi3vvmVHR_b",
        "outputId": "0029456e-7486-491d-e358-1fad149c9341"
      },
      "outputs": [
        {
          "output_type": "execute_result",
          "data": {
            "image/png": "[encoded data removed]",
            "text/plain": [
              "<IPython.core.display.Image object>"
            ]
          },
          "metadata": {},
          "execution_count": 14
        }
      ],
      "source": [
        "keras.utils.plot_model(model)"
      ]
    },
    {
      "cell_type": "code",
      "execution_count": 15,
      "metadata": {
        "id": "JUer1iHVHWJn"
      },
      "outputs": [],
      "source": [
        "model.compile(\n",
        "    optimizer=optimizers.Adam(learning_rate=0.001),\n",
        "    loss={'age':losses.MeanSquaredError(),'gender':losses.BinaryCrossentropy()},\n",
        "    metrics={'age':metrics.MeanAbsoluteError(),'gender':metrics.BinaryAccuracy()}\n",
        ")"
      ]
    },
    {
      "cell_type": "markdown",
      "source": [
        "model.fit(crop_images,{'age':crop_ages,'gender':crop_genders},epochs=100,callbacks=[EarlyStopping(patience=3)])\n",
        "\n",
        "```\n",
        "# This is formatted as code\n",
        "```\n",
        "\n"
      ],
      "metadata": {
        "id": "x9sfPpgoHuTs"
      }
    },
    {
      "cell_type": "code",
      "source": [
        "model.fit(crop_images,{'age':crop_ages,'gender':crop_genders},epochs=10,callbacks=[EarlyStopping(patience=3)])\n",
        "\n"
      ],
      "metadata": {
        "colab": {
          "base_uri": "https://localhost:8080/"
        },
        "id": "MztIgMq7XQvc",
        "outputId": "29137c55-d524-458d-8203-8866513a6cf5"
      },
      "execution_count": null,
      "outputs": [
        {
          "metadata": {
            "tags": null
          },
          "name": "stdout",
          "output_type": "stream",
          "text": [
            "Epoch 1/10\n",
            "\u001b[1m306/306\u001b[0m \u001b[32m━━━━━━━━━━━━━━━━━━━━\u001b[0m\u001b[37m\u001b[0m \u001b[1m125s\u001b[0m 320ms/step - age_loss: 5616727.5000 - age_mean_absolute_error: 354.3736 - gender_binary_accuracy: 0.4803 - gender_loss: 33.5638 - loss: 5616770.5000\n",
            "Epoch 2/10\n"
          ]
        },
        {
          "metadata": {
            "tags": null
          },
          "name": "stderr",
          "output_type": "stream",
          "text": [
            "/usr/local/lib/python3.10/dist-packages/keras/src/callbacks/early_stopping.py:155: UserWarning: Early stopping conditioned on metric `val_loss` which is not available. Available metrics are: age_loss,age_mean_absolute_error,gender_binary_accuracy,gender_loss,loss\n",
            "  current = self.get_monitor_value(logs)\n"
          ]
        },
        {
          "output_type": "stream",
          "name": "stdout",
          "text": [
            "\u001b[1m306/306\u001b[0m \u001b[32m━━━━━━━━━━━━━━━━━━━━\u001b[0m\u001b[37m\u001b[0m \u001b[1m97s\u001b[0m 253ms/step - age_loss: 360.5971 - age_mean_absolute_error: 14.1403 - gender_binary_accuracy: 0.5319 - gender_loss: 0.6986 - loss: 361.2977\n",
            "Epoch 3/10\n",
            "\u001b[1m306/306\u001b[0m \u001b[32m━━━━━━━━━━━━━━━━━━━━\u001b[0m\u001b[37m\u001b[0m \u001b[1m82s\u001b[0m 254ms/step - age_loss: 259.6388 - age_mean_absolute_error: 11.7597 - gender_binary_accuracy: 0.5409 - gender_loss: 0.6952 - loss: 260.3346\n",
            "Epoch 4/10\n",
            "\u001b[1m306/306\u001b[0m \u001b[32m━━━━━━━━━━━━━━━━━━━━\u001b[0m\u001b[37m\u001b[0m \u001b[1m82s\u001b[0m 254ms/step - age_loss: 196.6538 - age_mean_absolute_error: 10.1627 - gender_binary_accuracy: 0.5370 - gender_loss: 0.6913 - loss: 197.3452\n",
            "Epoch 5/10\n",
            "\u001b[1m306/306\u001b[0m \u001b[32m━━━━━━━━━━━━━━━━━━━━\u001b[0m\u001b[37m\u001b[0m \u001b[1m82s\u001b[0m 254ms/step - age_loss: 179.1488 - age_mean_absolute_error: 9.7238 - gender_binary_accuracy: 0.5420 - gender_loss: 0.6956 - loss: 179.8447\n",
            "Epoch 6/10\n",
            "\u001b[1m306/306\u001b[0m \u001b[32m━━━━━━━━━━━━━━━━━━━━\u001b[0m\u001b[37m\u001b[0m \u001b[1m82s\u001b[0m 253ms/step - age_loss: 160.0064 - age_mean_absolute_error: 9.1921 - gender_binary_accuracy: 0.5317 - gender_loss: 0.6986 - loss: 160.7044\n",
            "Epoch 7/10\n",
            "\u001b[1m306/306\u001b[0m \u001b[32m━━━━━━━━━━━━━━━━━━━━\u001b[0m\u001b[37m\u001b[0m \u001b[1m82s\u001b[0m 254ms/step - age_loss: 137.8672 - age_mean_absolute_error: 8.5294 - gender_binary_accuracy: 0.5473 - gender_loss: 0.6956 - loss: 138.5618\n",
            "Epoch 8/10\n",
            "\u001b[1m306/306\u001b[0m \u001b[32m━━━━━━━━━━━━━━━━━━━━\u001b[0m\u001b[37m\u001b[0m \u001b[1m78s\u001b[0m 254ms/step - age_loss: 124.6518 - age_mean_absolute_error: 8.2406 - gender_binary_accuracy: 0.5561 - gender_loss: 0.6915 - loss: 125.3441\n",
            "Epoch 9/10\n",
            "\u001b[1m217/306\u001b[0m \u001b[32m━━━━━━━━━━━━━━\u001b[0m\u001b[37m━━━━━━\u001b[0m \u001b[1m22s\u001b[0m 254ms/step - age_loss: 122.4867 - age_mean_absolute_error: 8.0819 - gender_binary_accuracy: 0.5491 - gender_loss: 0.6937 - loss: 123.1804"
          ]
        }
      ]
    },
    {
      "cell_type": "code",
      "source": [],
      "metadata": {
        "id": "ctDnYfTCXPT9"
      },
      "execution_count": null,
      "outputs": []
    },
    {
      "cell_type": "code",
      "execution_count": 19,
      "metadata": {
        "id": "8YJpoZrqHxCj",
        "colab": {
          "base_uri": "https://localhost:8080/"
        },
        "outputId": "741170bf-7d17-479f-d5f1-729a0d3c9769"
      },
      "outputs": [
        {
          "output_type": "stream",
          "name": "stdout",
          "text": [
            "\u001b[1m306/306\u001b[0m \u001b[32m━━━━━━━━━━━━━━━━━━━━\u001b[0m\u001b[37m\u001b[0m \u001b[1m32s\u001b[0m 82ms/step - age_loss: 97.0583 - age_mean_absolute_error: 7.2993 - gender_binary_accuracy: 0.5557 - gender_loss: 0.7494 - loss: 97.8079\n"
          ]
        },
        {
          "output_type": "execute_result",
          "data": {
            "text/plain": [
              "[98.55338287353516,\n",
              " 97.78677368164062,\n",
              " 0.7514248490333557,\n",
              " 7.3323163986206055,\n",
              " 0.5528630018234253]"
            ]
          },
          "metadata": {},
          "execution_count": 19
        }
      ],
      "source": [
        "model.evaluate(crop_images,{'age':crop_ages,'gender':crop_genders})"
      ]
    },
    {
      "cell_type": "code",
      "source": [
        "model.save('model_10.h5')"
      ],
      "metadata": {
        "colab": {
          "base_uri": "https://localhost:8080/"
        },
        "id": "6RUJMgqVQsJh",
        "outputId": "cbc06b72-433d-47db-a808-69556e422226"
      },
      "execution_count": 20,
      "outputs": [
        {
          "output_type": "stream",
          "name": "stderr",
          "text": [
            "WARNING:absl:You are saving your model as an HDF5 file via `model.save()` or `keras.saving.save_model(model)`. This file format is considered legacy. We recommend using instead the native Keras format, e.g. `model.save('my_model.keras')` or `keras.saving.save_model(model, 'my_model.keras')`. \n"
          ]
        }
      ]
    },
    {
      "cell_type": "code",
      "source": [
        "from google.colab.files import download"
      ],
      "metadata": {
        "id": "PRMvJbxYci30"
      },
      "execution_count": 21,
      "outputs": []
    },
    {
      "cell_type": "code",
      "source": [
        "download('model_10.h5')"
      ],
      "metadata": {
        "id": "9HcJNnr7csdz",
        "outputId": "bad7e91e-aaee-4953-837b-4f3bf1cf9646",
        "colab": {
          "base_uri": "https://localhost:8080/",
          "height": 17
        }
      },
      "execution_count": 22,
      "outputs": [
        {
          "output_type": "display_data",
          "data": {
            "text/plain": [
              "<IPython.core.display.Javascript object>"
            ],
            "application/javascript": [
              "\n",
              "    async function download(id, filename, size) {\n",
              "      if (!google.colab.kernel.accessAllowed) {\n",
              "        return;\n",
              "      }\n",
              "      const div = document.createElement('div');\n",
              "      const label = document.createElement('label');\n",
              "      label.textContent = `Downloading \"${filename}\": `;\n",
              "      div.appendChild(label);\n",
              "      const progress = document.createElement('progress');\n",
              "      progress.max = size;\n",
              "      div.appendChild(progress);\n",
              "      document.body.appendChild(div);\n",
              "\n",
              "      const buffers = [];\n",
              "      let downloaded = 0;\n",
              "\n",
              "      const channel = await google.colab.kernel.comms.open(id);\n",
              "      // Send a message to notify the kernel that we're ready.\n",
              "      channel.send({})\n",
              "\n",
              "      for await (const message of channel.messages) {\n",
              "        // Send a message to notify the kernel that we're ready.\n",
              "        channel.send({})\n",
              "        if (message.buffers) {\n",
              "          for (const buffer of message.buffers) {\n",
              "            buffers.push(buffer);\n",
              "            downloaded += buffer.byteLength;\n",
              "            progress.value = downloaded;\n",
              "          }\n",
              "        }\n",
              "      }\n",
              "      const blob = new Blob(buffers, {type: 'application/binary'});\n",
              "      const a = document.createElement('a');\n",
              "      a.href = window.URL.createObjectURL(blob);\n",
              "      a.download = filename;\n",
              "      div.appendChild(a);\n",
              "      a.click();\n",
              "      div.remove();\n",
              "    }\n",
              "  "
            ]
          },
          "metadata": {}
        },
        {
          "output_type": "display_data",
          "data": {
            "text/plain": [
              "<IPython.core.display.Javascript object>"
            ],
            "application/javascript": [
              "download(\"download_b1d7b496-bec2-45b2-90e8-da53fbb5bd54\", \"model_10.h5\", 574505160)"
            ]
          },
          "metadata": {}
        }
      ]
    },
    {
      "cell_type": "code",
      "source": [
        "len(os.listdir(utk_face)),len(os.listdir(crop_part1))"
      ],
      "metadata": {
        "id": "EeD8UwEJctyE",
        "outputId": "fdd3dee2-4594-4e81-85d9-748ce425a7c2",
        "colab": {
          "base_uri": "https://localhost:8080/"
        }
      },
      "execution_count": 25,
      "outputs": [
        {
          "output_type": "execute_result",
          "data": {
            "text/plain": [
              "(23708, 9780)"
            ]
          },
          "metadata": {},
          "execution_count": 25
        }
      ]
    },
    {
      "cell_type": "code",
      "source": [
        "utk_path=[]\n",
        "utk_ages=[]\n",
        "utk_genders=[]"
      ],
      "metadata": {
        "id": "rNSDmOKmdEBE"
      },
      "execution_count": 28,
      "outputs": []
    },
    {
      "cell_type": "code",
      "source": [
        "for i in os.listdir(utk_face):\n",
        "  ages=i.split(\"_\")[0]\n",
        "\n",
        "  gender=i.split(\"_\")[1]\n",
        "  path=i\n",
        "  utk_path.append(path)\n",
        "  utk_ages.append(ages)\n",
        "  utk_genders.append(gender)\n"
      ],
      "metadata": {
        "id": "ruIx8_aYdYXE"
      },
      "execution_count": 29,
      "outputs": []
    },
    {
      "cell_type": "code",
      "source": [
        "df=pd.DataFrame({'path':utk_path,'age':utk_ages,'gender':utk_genders})"
      ],
      "metadata": {
        "id": "NWZJ3tRldvGj"
      },
      "execution_count": 31,
      "outputs": []
    },
    {
      "cell_type": "code",
      "source": [
        "df.head()"
      ],
      "metadata": {
        "id": "oI01m2Acd3bj",
        "outputId": "f3a74e2c-0565-4931-fb95-ea348fa78cd4",
        "colab": {
          "base_uri": "https://localhost:8080/",
          "height": 206
        }
      },
      "execution_count": 32,
      "outputs": [
        {
          "output_type": "execute_result",
          "data": {
            "text/plain": [
              "                                    path age gender\n",
              "0  30_1_3_20170119204032119.jpg.chip.jpg  30      1\n",
              "1  24_1_4_20170117194745325.jpg.chip.jpg  24      1\n",
              "2  38_1_3_20170117165055412.jpg.chip.jpg  38      1\n",
              "3  86_1_0_20170110181934936.jpg.chip.jpg  86      1\n",
              "4  32_1_0_20170117092300323.jpg.chip.jpg  32      1"
            ],
            "text/html": [
              "\n",
              "  <div id=\"df-b4e7a089-c018-448c-b242-c474c9d096c4\" class=\"colab-df-container\">\n",
              "    <div>\n",
              "<style scoped>\n",
              "    .dataframe tbody tr th:only-of-type {\n",
              "        vertical-align: middle;\n",
              "    }\n",
              "\n",
              "    .dataframe tbody tr th {\n",
              "        vertical-align: top;\n",
              "    }\n",
              "\n",
              "    .dataframe thead th {\n",
              "        text-align: right;\n",
              "    }\n",
              "</style>\n",
              "<table border=\"1\" class=\"dataframe\">\n",
              "  <thead>\n",
              "    <tr style=\"text-align: right;\">\n",
              "      <th></th>\n",
              "      <th>path</th>\n",
              "      <th>age</th>\n",
              "      <th>gender</th>\n",
              "    </tr>\n",
              "  </thead>\n",
              "  <tbody>\n",
              "    <tr>\n",
              "      <th>0</th>\n",
              "      <td>30_1_3_20170119204032119.jpg.chip.jpg</td>\n",
              "      <td>30</td>\n",
              "      <td>1</td>\n",
              "    </tr>\n",
              "    <tr>\n",
              "      <th>1</th>\n",
              "      <td>24_1_4_20170117194745325.jpg.chip.jpg</td>\n",
              "      <td>24</td>\n",
              "      <td>1</td>\n",
              "    </tr>\n",
              "    <tr>\n",
              "      <th>2</th>\n",
              "      <td>38_1_3_20170117165055412.jpg.chip.jpg</td>\n",
              "      <td>38</td>\n",
              "      <td>1</td>\n",
              "    </tr>\n",
              "    <tr>\n",
              "      <th>3</th>\n",
              "      <td>86_1_0_20170110181934936.jpg.chip.jpg</td>\n",
              "      <td>86</td>\n",
              "      <td>1</td>\n",
              "    </tr>\n",
              "    <tr>\n",
              "      <th>4</th>\n",
              "      <td>32_1_0_20170117092300323.jpg.chip.jpg</td>\n",
              "      <td>32</td>\n",
              "      <td>1</td>\n",
              "    </tr>\n",
              "  </tbody>\n",
              "</table>\n",
              "</div>\n",
              "    <div class=\"colab-df-buttons\">\n",
              "\n",
              "  <div class=\"colab-df-container\">\n",
              "    <button class=\"colab-df-convert\" onclick=\"convertToInteractive('df-b4e7a089-c018-448c-b242-c474c9d096c4')\"\n",
              "            title=\"Convert this dataframe to an interactive table.\"\n",
              "            style=\"display:none;\">\n",
              "\n",
              "  <svg xmlns=\"http://www.w3.org/2000/svg\" height=\"24px\" viewBox=\"0 -960 960 960\">\n",
              "    <path d=\"M120-120v-720h720v720H120Zm60-500h600v-160H180v160Zm220 220h160v-160H400v160Zm0 220h160v-160H400v160ZM180-400h160v-160H180v160Zm440 0h160v-160H620v160ZM180-180h160v-160H180v160Zm440 0h160v-160H620v160Z\"/>\n",
              "  </svg>\n",
              "    </button>\n",
              "\n",
              "  <style>\n",
              "    .colab-df-container {\n",
              "      display:flex;\n",
              "      gap: 12px;\n",
              "    }\n",
              "\n",
              "    .colab-df-convert {\n",
              "      background-color: #E8F0FE;\n",
              "      border: none;\n",
              "      border-radius: 50%;\n",
              "      cursor: pointer;\n",
              "      display: none;\n",
              "      fill: #1967D2;\n",
              "      height: 32px;\n",
              "      padding: 0 0 0 0;\n",
              "      width: 32px;\n",
              "    }\n",
              "\n",
              "    .colab-df-convert:hover {\n",
              "      background-color: #E2EBFA;\n",
              "      box-shadow: 0px 1px 2px rgba(60, 64, 67, 0.3), 0px 1px 3px 1px rgba(60, 64, 67, 0.15);\n",
              "      fill: #174EA6;\n",
              "    }\n",
              "\n",
              "    .colab-df-buttons div {\n",
              "      margin-bottom: 4px;\n",
              "    }\n",
              "\n",
              "    [theme=dark] .colab-df-convert {\n",
              "      background-color: #3B4455;\n",
              "      fill: #D2E3FC;\n",
              "    }\n",
              "\n",
              "    [theme=dark] .colab-df-convert:hover {\n",
              "      background-color: #434B5C;\n",
              "      box-shadow: 0px 1px 3px 1px rgba(0, 0, 0, 0.15);\n",
              "      filter: drop-shadow(0px 1px 2px rgba(0, 0, 0, 0.3));\n",
              "      fill: #FFFFFF;\n",
              "    }\n",
              "  </style>\n",
              "\n",
              "    <script>\n",
              "      const buttonEl =\n",
              "        document.querySelector('#df-b4e7a089-c018-448c-b242-c474c9d096c4 button.colab-df-convert');\n",
              "      buttonEl.style.display =\n",
              "        google.colab.kernel.accessAllowed ? 'block' : 'none';\n",
              "\n",
              "      async function convertToInteractive(key) {\n",
              "        const element = document.querySelector('#df-b4e7a089-c018-448c-b242-c474c9d096c4');\n",
              "        const dataTable =\n",
              "          await google.colab.kernel.invokeFunction('convertToInteractive',\n",
              "                                                    [key], {});\n",
              "        if (!dataTable) return;\n",
              "\n",
              "        const docLinkHtml = 'Like what you see? Visit the ' +\n",
              "          '<a target=\"_blank\" href=https://colab.research.google.com/notebooks/data_table.ipynb>data table notebook</a>'\n",
              "          + ' to learn more about interactive tables.';\n",
              "        element.innerHTML = '';\n",
              "        dataTable['output_type'] = 'display_data';\n",
              "        await google.colab.output.renderOutput(dataTable, element);\n",
              "        const docLink = document.createElement('div');\n",
              "        docLink.innerHTML = docLinkHtml;\n",
              "        element.appendChild(docLink);\n",
              "      }\n",
              "    </script>\n",
              "  </div>\n",
              "\n",
              "\n",
              "<div id=\"df-145e4eb9-dcd5-4f98-aaa8-a79da80b6f2d\">\n",
              "  <button class=\"colab-df-quickchart\" onclick=\"quickchart('df-145e4eb9-dcd5-4f98-aaa8-a79da80b6f2d')\"\n",
              "            title=\"Suggest charts\"\n",
              "            style=\"display:none;\">\n",
              "\n",
              "<svg xmlns=\"http://www.w3.org/2000/svg\" height=\"24px\"viewBox=\"0 0 24 24\"\n",
              "     width=\"24px\">\n",
              "    <g>\n",
              "        <path d=\"M19 3H5c-1.1 0-2 .9-2 2v14c0 1.1.9 2 2 2h14c1.1 0 2-.9 2-2V5c0-1.1-.9-2-2-2zM9 17H7v-7h2v7zm4 0h-2V7h2v10zm4 0h-2v-4h2v4z\"/>\n",
              "    </g>\n",
              "</svg>\n",
              "  </button>\n",
              "\n",
              "<style>\n",
              "  .colab-df-quickchart {\n",
              "      --bg-color: #E8F0FE;\n",
              "      --fill-color: #1967D2;\n",
              "      --hover-bg-color: #E2EBFA;\n",
              "      --hover-fill-color: #174EA6;\n",
              "      --disabled-fill-color: #AAA;\n",
              "      --disabled-bg-color: #DDD;\n",
              "  }\n",
              "\n",
              "  [theme=dark] .colab-df-quickchart {\n",
              "      --bg-color: #3B4455;\n",
              "      --fill-color: #D2E3FC;\n",
              "      --hover-bg-color: #434B5C;\n",
              "      --hover-fill-color: #FFFFFF;\n",
              "      --disabled-bg-color: #3B4455;\n",
              "      --disabled-fill-color: #666;\n",
              "  }\n",
              "\n",
              "  .colab-df-quickchart {\n",
              "    background-color: var(--bg-color);\n",
              "    border: none;\n",
              "    border-radius: 50%;\n",
              "    cursor: pointer;\n",
              "    display: none;\n",
              "    fill: var(--fill-color);\n",
              "    height: 32px;\n",
              "    padding: 0;\n",
              "    width: 32px;\n",
              "  }\n",
              "\n",
              "  .colab-df-quickchart:hover {\n",
              "    background-color: var(--hover-bg-color);\n",
              "    box-shadow: 0 1px 2px rgba(60, 64, 67, 0.3), 0 1px 3px 1px rgba(60, 64, 67, 0.15);\n",
              "    fill: var(--button-hover-fill-color);\n",
              "  }\n",
              "\n",
              "  .colab-df-quickchart-complete:disabled,\n",
              "  .colab-df-quickchart-complete:disabled:hover {\n",
              "    background-color: var(--disabled-bg-color);\n",
              "    fill: var(--disabled-fill-color);\n",
              "    box-shadow: none;\n",
              "  }\n",
              "\n",
              "  .colab-df-spinner {\n",
              "    border: 2px solid var(--fill-color);\n",
              "    border-color: transparent;\n",
              "    border-bottom-color: var(--fill-color);\n",
              "    animation:\n",
              "      spin 1s steps(1) infinite;\n",
              "  }\n",
              "\n",
              "  @keyframes spin {\n",
              "    0% {\n",
              "      border-color: transparent;\n",
              "      border-bottom-color: var(--fill-color);\n",
              "      border-left-color: var(--fill-color);\n",
              "    }\n",
              "    20% {\n",
              "      border-color: transparent;\n",
              "      border-left-color: var(--fill-color);\n",
              "      border-top-color: var(--fill-color);\n",
              "    }\n",
              "    30% {\n",
              "      border-color: transparent;\n",
              "      border-left-color: var(--fill-color);\n",
              "      border-top-color: var(--fill-color);\n",
              "      border-right-color: var(--fill-color);\n",
              "    }\n",
              "    40% {\n",
              "      border-color: transparent;\n",
              "      border-right-color: var(--fill-color);\n",
              "      border-top-color: var(--fill-color);\n",
              "    }\n",
              "    60% {\n",
              "      border-color: transparent;\n",
              "      border-right-color: var(--fill-color);\n",
              "    }\n",
              "    80% {\n",
              "      border-color: transparent;\n",
              "      border-right-color: var(--fill-color);\n",
              "      border-bottom-color: var(--fill-color);\n",
              "    }\n",
              "    90% {\n",
              "      border-color: transparent;\n",
              "      border-bottom-color: var(--fill-color);\n",
              "    }\n",
              "  }\n",
              "</style>\n",
              "\n",
              "  <script>\n",
              "    async function quickchart(key) {\n",
              "      const quickchartButtonEl =\n",
              "        document.querySelector('#' + key + ' button');\n",
              "      quickchartButtonEl.disabled = true;  // To prevent multiple clicks.\n",
              "      quickchartButtonEl.classList.add('colab-df-spinner');\n",
              "      try {\n",
              "        const charts = await google.colab.kernel.invokeFunction(\n",
              "            'suggestCharts', [key], {});\n",
              "      } catch (error) {\n",
              "        console.error('Error during call to suggestCharts:', error);\n",
              "      }\n",
              "      quickchartButtonEl.classList.remove('colab-df-spinner');\n",
              "      quickchartButtonEl.classList.add('colab-df-quickchart-complete');\n",
              "    }\n",
              "    (() => {\n",
              "      let quickchartButtonEl =\n",
              "        document.querySelector('#df-145e4eb9-dcd5-4f98-aaa8-a79da80b6f2d button');\n",
              "      quickchartButtonEl.style.display =\n",
              "        google.colab.kernel.accessAllowed ? 'block' : 'none';\n",
              "    })();\n",
              "  </script>\n",
              "</div>\n",
              "\n",
              "    </div>\n",
              "  </div>\n"
            ],
            "application/vnd.google.colaboratory.intrinsic+json": {
              "type": "dataframe",
              "variable_name": "df",
              "summary": "{\n  \"name\": \"df\",\n  \"rows\": 23708,\n  \"fields\": [\n    {\n      \"column\": \"path\",\n      \"properties\": {\n        \"dtype\": \"string\",\n        \"num_unique_values\": 23708,\n        \"samples\": [\n          \"30_0_1_20170116002938608.jpg.chip.jpg\",\n          \"26_0_3_20170117154527678.jpg.chip.jpg\",\n          \"24_1_1_20170115234948897.jpg.chip.jpg\"\n        ],\n        \"semantic_type\": \"\",\n        \"description\": \"\"\n      }\n    },\n    {\n      \"column\": \"age\",\n      \"properties\": {\n        \"dtype\": \"category\",\n        \"num_unique_values\": 104,\n        \"samples\": [\n          \"75\",\n          \"57\",\n          \"79\"\n        ],\n        \"semantic_type\": \"\",\n        \"description\": \"\"\n      }\n    },\n    {\n      \"column\": \"gender\",\n      \"properties\": {\n        \"dtype\": \"category\",\n        \"num_unique_values\": 2,\n        \"samples\": [\n          \"0\",\n          \"1\"\n        ],\n        \"semantic_type\": \"\",\n        \"description\": \"\"\n      }\n    }\n  ]\n}"
            }
          },
          "metadata": {},
          "execution_count": 32
        }
      ]
    },
    {
      "cell_type": "code",
      "source": [
        "df[['age','gender']]=df[['age','gender']].astype('float64')"
      ],
      "metadata": {
        "id": "yB-upzreeBjU"
      },
      "execution_count": 34,
      "outputs": []
    },
    {
      "cell_type": "code",
      "source": [
        "df.info()"
      ],
      "metadata": {
        "id": "0INw5oQSeMek",
        "outputId": "c98d0ffb-137e-4667-d59d-8945ad646682",
        "colab": {
          "base_uri": "https://localhost:8080/"
        }
      },
      "execution_count": 35,
      "outputs": [
        {
          "output_type": "stream",
          "name": "stdout",
          "text": [
            "<class 'pandas.core.frame.DataFrame'>\n",
            "RangeIndex: 23708 entries, 0 to 23707\n",
            "Data columns (total 3 columns):\n",
            " #   Column  Non-Null Count  Dtype  \n",
            "---  ------  --------------  -----  \n",
            " 0   path    23708 non-null  object \n",
            " 1   age     23708 non-null  float64\n",
            " 2   gender  23708 non-null  float64\n",
            "dtypes: float64(2), object(1)\n",
            "memory usage: 555.8+ KB\n"
          ]
        }
      ]
    },
    {
      "cell_type": "code",
      "source": [
        "df.age.unique()"
      ],
      "metadata": {
        "id": "d-IawiCLeRv0",
        "outputId": "e9d9dc13-48db-4a11-9250-d9137f14b172",
        "colab": {
          "base_uri": "https://localhost:8080/"
        }
      },
      "execution_count": 36,
      "outputs": [
        {
          "output_type": "execute_result",
          "data": {
            "text/plain": [
              "array([ 30.,  24.,  38.,  86.,  32.,  34.,   1.,  41.,  56.,  10.,  31.,\n",
              "        89.,  59.,  54.,  12.,  25.,  35.,  22.,  21.,  26.,  50.,  40.,\n",
              "         5.,  29.,  28.,  27.,   8.,   4.,  39.,  74.,  75.,  64.,  37.,\n",
              "         6.,  19.,  36.,  20.,  44.,  63.,  55.,  60.,  58.,  62.,  23.,\n",
              "        68.,  65.,  11.,  67.,  47.,  15.,   3.,  33.,  70.,  42.,  53.,\n",
              "        61.,  45.,   2.,  46.,  16.,  13., 116.,   9.,  51.,  79.,  57.,\n",
              "        85.,  72.,  43.,  18.,  52.,  14.,  78.,   7.,  49.,  69.,  92.,\n",
              "        90.,  88.,  80.,  48.,  17.,  66.,  73.,  99.,  76.,  82.,  81.,\n",
              "        77.,  87.,  83.,  71., 110.,  84., 105.,  96., 100.,  95., 101.,\n",
              "        93., 111., 115., 103.,  91.])"
            ]
          },
          "metadata": {},
          "execution_count": 36
        }
      ]
    },
    {
      "cell_type": "code",
      "source": [
        "df.gender.unique()"
      ],
      "metadata": {
        "id": "E6ELWG1deY4i",
        "outputId": "a15f3cdc-f910-492e-f9a8-706d110d031a",
        "colab": {
          "base_uri": "https://localhost:8080/"
        }
      },
      "execution_count": 37,
      "outputs": [
        {
          "output_type": "execute_result",
          "data": {
            "text/plain": [
              "array([1., 0.])"
            ]
          },
          "metadata": {},
          "execution_count": 37
        }
      ]
    },
    {
      "cell_type": "code",
      "source": [
        "df.gender.value_counts()"
      ],
      "metadata": {
        "id": "KDxG8XHwebtT",
        "outputId": "d0826837-5039-4bf5-98d2-a100d56194c9",
        "colab": {
          "base_uri": "https://localhost:8080/",
          "height": 178
        }
      },
      "execution_count": 38,
      "outputs": [
        {
          "output_type": "execute_result",
          "data": {
            "text/plain": [
              "gender\n",
              "0.0    12391\n",
              "1.0    11317\n",
              "Name: count, dtype: int64"
            ],
            "text/html": [
              "<div>\n",
              "<style scoped>\n",
              "    .dataframe tbody tr th:only-of-type {\n",
              "        vertical-align: middle;\n",
              "    }\n",
              "\n",
              "    .dataframe tbody tr th {\n",
              "        vertical-align: top;\n",
              "    }\n",
              "\n",
              "    .dataframe thead th {\n",
              "        text-align: right;\n",
              "    }\n",
              "</style>\n",
              "<table border=\"1\" class=\"dataframe\">\n",
              "  <thead>\n",
              "    <tr style=\"text-align: right;\">\n",
              "      <th></th>\n",
              "      <th>count</th>\n",
              "    </tr>\n",
              "    <tr>\n",
              "      <th>gender</th>\n",
              "      <th></th>\n",
              "    </tr>\n",
              "  </thead>\n",
              "  <tbody>\n",
              "    <tr>\n",
              "      <th>0.0</th>\n",
              "      <td>12391</td>\n",
              "    </tr>\n",
              "    <tr>\n",
              "      <th>1.0</th>\n",
              "      <td>11317</td>\n",
              "    </tr>\n",
              "  </tbody>\n",
              "</table>\n",
              "</div><br><label><b>dtype:</b> int64</label>"
            ]
          },
          "metadata": {},
          "execution_count": 38
        }
      ]
    },
    {
      "cell_type": "code",
      "source": [
        "x_train,x_test,y_train,y_test=train_test_split(df.path,df[['age','gender']],test_size=0.2,random_state=42)"
      ],
      "metadata": {
        "id": "5HEUYgUGehL4"
      },
      "execution_count": 40,
      "outputs": []
    },
    {
      "cell_type": "code",
      "source": [
        "x_train"
      ],
      "metadata": {
        "id": "dYhttLQxeypT",
        "outputId": "953da972-105f-46c4-eafb-86bb4bf45fcf",
        "colab": {
          "base_uri": "https://localhost:8080/",
          "height": 458
        }
      },
      "execution_count": 41,
      "outputs": [
        {
          "output_type": "execute_result",
          "data": {
            "text/plain": [
              "5096      7_1_4_20161223225914300.jpg.chip.jpg\n",
              "19586    29_1_0_20170109132341425.jpg.chip.jpg\n",
              "9835     35_0_0_20170117195418222.jpg.chip.jpg\n",
              "13631    80_0_0_20170111222138149.jpg.chip.jpg\n",
              "9807      1_0_0_20170109193820009.jpg.chip.jpg\n",
              "                         ...                  \n",
              "21575    34_0_0_20170117134912040.jpg.chip.jpg\n",
              "5390     30_1_4_20170109135421119.jpg.chip.jpg\n",
              "860      16_0_0_20170110231532894.jpg.chip.jpg\n",
              "15795    41_1_3_20170104235812019.jpg.chip.jpg\n",
              "23654    40_0_0_20170117120759137.jpg.chip.jpg\n",
              "Name: path, Length: 18966, dtype: object"
            ],
            "text/html": [
              "<div>\n",
              "<style scoped>\n",
              "    .dataframe tbody tr th:only-of-type {\n",
              "        vertical-align: middle;\n",
              "    }\n",
              "\n",
              "    .dataframe tbody tr th {\n",
              "        vertical-align: top;\n",
              "    }\n",
              "\n",
              "    .dataframe thead th {\n",
              "        text-align: right;\n",
              "    }\n",
              "</style>\n",
              "<table border=\"1\" class=\"dataframe\">\n",
              "  <thead>\n",
              "    <tr style=\"text-align: right;\">\n",
              "      <th></th>\n",
              "      <th>path</th>\n",
              "    </tr>\n",
              "  </thead>\n",
              "  <tbody>\n",
              "    <tr>\n",
              "      <th>5096</th>\n",
              "      <td>7_1_4_20161223225914300.jpg.chip.jpg</td>\n",
              "    </tr>\n",
              "    <tr>\n",
              "      <th>19586</th>\n",
              "      <td>29_1_0_20170109132341425.jpg.chip.jpg</td>\n",
              "    </tr>\n",
              "    <tr>\n",
              "      <th>9835</th>\n",
              "      <td>35_0_0_20170117195418222.jpg.chip.jpg</td>\n",
              "    </tr>\n",
              "    <tr>\n",
              "      <th>13631</th>\n",
              "      <td>80_0_0_20170111222138149.jpg.chip.jpg</td>\n",
              "    </tr>\n",
              "    <tr>\n",
              "      <th>9807</th>\n",
              "      <td>1_0_0_20170109193820009.jpg.chip.jpg</td>\n",
              "    </tr>\n",
              "    <tr>\n",
              "      <th>...</th>\n",
              "      <td>...</td>\n",
              "    </tr>\n",
              "    <tr>\n",
              "      <th>21575</th>\n",
              "      <td>34_0_0_20170117134912040.jpg.chip.jpg</td>\n",
              "    </tr>\n",
              "    <tr>\n",
              "      <th>5390</th>\n",
              "      <td>30_1_4_20170109135421119.jpg.chip.jpg</td>\n",
              "    </tr>\n",
              "    <tr>\n",
              "      <th>860</th>\n",
              "      <td>16_0_0_20170110231532894.jpg.chip.jpg</td>\n",
              "    </tr>\n",
              "    <tr>\n",
              "      <th>15795</th>\n",
              "      <td>41_1_3_20170104235812019.jpg.chip.jpg</td>\n",
              "    </tr>\n",
              "    <tr>\n",
              "      <th>23654</th>\n",
              "      <td>40_0_0_20170117120759137.jpg.chip.jpg</td>\n",
              "    </tr>\n",
              "  </tbody>\n",
              "</table>\n",
              "<p>18966 rows × 1 columns</p>\n",
              "</div><br><label><b>dtype:</b> object</label>"
            ]
          },
          "metadata": {},
          "execution_count": 41
        }
      ]
    },
    {
      "cell_type": "code",
      "source": [
        "x_train.shape,x_test.shape"
      ],
      "metadata": {
        "id": "09peW0UDe2Di",
        "outputId": "b747e8a8-e66c-4bc9-855c-cb4857fbc467",
        "colab": {
          "base_uri": "https://localhost:8080/"
        }
      },
      "execution_count": 42,
      "outputs": [
        {
          "output_type": "execute_result",
          "data": {
            "text/plain": [
              "((18966,), (4742,))"
            ]
          },
          "metadata": {},
          "execution_count": 42
        }
      ]
    },
    {
      "cell_type": "code",
      "source": [
        "x_train_images=[]\n",
        "for i in x_train:\n",
        "  path=os.path.join(utk_face,i)\n",
        "  img=cv2.imread(path)\n",
        "  img=cv2.resize(img,(224,224))\n",
        "  x_train_images.append(img)"
      ],
      "metadata": {
        "id": "LsScGwF3e7VT"
      },
      "execution_count": 46,
      "outputs": []
    },
    {
      "cell_type": "code",
      "source": [
        "x_train_images=np.array(x_train_images)"
      ],
      "metadata": {
        "id": "tD6aPjS1fN9P"
      },
      "execution_count": 47,
      "outputs": []
    },
    {
      "cell_type": "code",
      "source": [
        "x_test_images=[]\n",
        "for i in x_test:\n",
        "  path=os.path.join(utk_face,i)\n",
        "  img=cv2.imread(path)\n",
        "  img=cv2.resize(img,(224,224))\n",
        "  x_test_images.append(img)"
      ],
      "metadata": {
        "id": "RdDICXf0ftg0"
      },
      "execution_count": 49,
      "outputs": []
    },
    {
      "cell_type": "code",
      "source": [],
      "metadata": {
        "id": "FtFVxicJf43T"
      },
      "execution_count": null,
      "outputs": []
    }
  ],
  "metadata": {
    "accelerator": "GPU",
    "colab": {
      "gpuType": "T4",
      "provenance": []
    },
    "kernelspec": {
      "display_name": "Python 3",
      "name": "python3"
    },
    "language_info": {
      "name": "python"
    }
  },
  "nbformat": 4,
  "nbformat_minor": 0
}